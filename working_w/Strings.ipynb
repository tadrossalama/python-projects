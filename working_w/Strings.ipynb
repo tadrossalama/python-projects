{
 "metadata": {
  "language_info": {
   "codemirror_mode": {
    "name": "ipython",
    "version": 3
   },
   "file_extension": ".py",
   "mimetype": "text/x-python",
   "name": "python",
   "nbconvert_exporter": "python",
   "pygments_lexer": "ipython3",
   "version": "3.7.7-final"
  },
  "orig_nbformat": 2,
  "kernelspec": {
   "name": "Python 3.7.7 64-bit",
   "display_name": "Python 3.7.7 64-bit",
   "metadata": {
    "interpreter": {
     "hash": "aee8b7b246df8f9039afb4144a1f6fd8d2ca17a180786b69acc140d282b71a49"
    }
   }
  }
 },
 "nbformat": 4,
 "nbformat_minor": 2,
 "cells": [
  {
   "cell_type": "markdown",
   "metadata": {},
   "source": [
    "#Tadros Salama\n",
    "##11/19/20"
   ]
  },
  {
   "cell_type": "markdown",
   "metadata": {},
   "source": [
    "**1.**\n",
    "** Program that gets a string containg a person's first, middle, and last names and displays intintals**\n",
    "**a**. storeing each name seperatley **b.** iterate to the beginning of each string and display it followed with a period **c.**Display it in uppercase.\n"
   ]
  },
  {
   "cell_type": "code",
   "execution_count": 72,
   "metadata": {},
   "outputs": [
    {
     "output_type": "stream",
     "name": "stdout",
     "text": [
      "T.M.S.\n"
     ]
    }
   ],
   "source": [
    "\n",
    "user_first = input('Enter first name: ')\n",
    "user_middle = input('Enter middle name: ')\n",
    "user_last =  input('Enter last name: ')\n",
    "print(user_first[0].upper() + '.' + user_middle[0].upper() +  '.' + user_last[0].upper() + '.')"
   ]
  },
  {
   "cell_type": "markdown",
   "metadata": {},
   "source": [
    "**2. Program that reads a string from the user containing a date in the form mm/dd/yyyy. Prints: November 21, 2020.**\n",
    "**a**. Calling datetime module from python library **b.** replacing dash line with comma to avoid formating date below with parenthesis **c.** using strptime() method to convert string to datetime format; pasing in the user input and the date formated using library directive. **d.** Finally applying stftime() to then convert date format to string that can be presented."
   ]
  },
  {
   "cell_type": "code",
   "execution_count": 138,
   "metadata": {},
   "outputs": [
    {
     "output_type": "stream",
     "name": "stdout",
     "text": [
      "January 29, 1999\n"
     ]
    }
   ],
   "source": [
    "from datetime import datetime\n",
    "user = input('Enter mm/dd/yyyy: ') #'01/29/1999'\n",
    "user_date = user.replace('/', ',')\n",
    "#strptime() converting string to a datetime by passing string and format of date\n",
    "format_date = datetime.strptime(user_date, '%m,%d,%Y')  \n",
    "#strftime() formats datetime to show full month name, %B\n",
    "print(format_date.strftime('%B %d, %Y'))\n",
    "\n"
   ]
  },
  {
   "cell_type": "markdown",
   "metadata": {},
   "source": [
    "**Problem 3. Program that translates alphabetic characters to their numeric equivalent**\n",
    "** a.** Created dictionary storing the strings as keys and the related numbers as values **b.** Creating nested for loop to iterate through the dictionary and the user input, replacing the character strings with it's related number."
   ]
  },
  {
   "cell_type": "code",
   "execution_count": 1,
   "metadata": {},
   "outputs": [
    {
     "output_type": "stream",
     "name": "stdout",
     "text": [
      "555-438-3663\n"
     ]
    }
   ],
   "source": [
    "user = input('Enter 10-character telephone number: ')\n",
    "dic = {'abc': '2', 'def': '3', 'ghi': '4', 'jkl': '5', 'mno': '6', 'pqrs': '7', 'tuv': '8', 'wxyz': '9'}\n",
    "for keys, values in dic.items():\n",
    "        for ch in user:\n",
    "            if ch in keys:\n",
    "                user = user.replace(ch, values)\n",
    "print(user)  "
   ]
  },
  {
   "cell_type": "markdown",
   "metadata": {},
   "source": [
    "**Problem 4. Program that reads .txt file contents and determines:**\n",
    "        a. number of uppercase letters\n",
    "        b. number of lowercase letters\n",
    "        c. number of digits in the file\n",
    "        d. number of whitespace characters\n",
    "** a.** open txt file **b** created count placeholder for each content **c.** loop through each character using boolean string methods that tallied the number of times it ran true in the txt file "
   ]
  },
  {
   "cell_type": "code",
   "execution_count": 187,
   "metadata": {},
   "outputs": [
    {
     "output_type": "stream",
     "name": "stdout",
     "text": [
      "Uppercase: 29\nLowercase: 1228\nDigits: 30\nWhitespace: 259\n"
     ]
    }
   ],
   "source": [
    "text_file = open('text.txt', 'r')\n",
    "words = text_file.read()\n",
    "n_upper = 0\n",
    "n_lower = 0\n",
    "n_digit = 0\n",
    "white_space = 0\n",
    "for ch in words:\n",
    "    if ch.isupper():\n",
    "        n_upper += 1\n",
    "    elif ch.islower():\n",
    "        n_lower += 1\n",
    "    elif ch.isdigit():\n",
    "        n_digit += 1\n",
    "    elif ch.isspace():\n",
    "        white_space +=1\n",
    "    else:\n",
    "        pass\n",
    "print('Uppercase: {}\\nLowercase: {}\\nDigits: {}\\nWhitespace: {}'.format(n_upper, n_lower, n_digit, white_space))\n"
   ]
  },
  {
   "cell_type": "markdown",
   "metadata": {},
   "source": [
    "**Problem 5. Program that returns the number of vowels and constants entered**\n",
    "** a.** Defined vowels in a string **b.** removed white space from user input **c.** Used string method is.alpha() to remove all characters that weren't letters. **d.** for loop using string method and vowels string to tally the number of successes"
   ]
  },
  {
   "cell_type": "code",
   "execution_count": 208,
   "metadata": {},
   "outputs": [
    {
     "output_type": "stream",
     "name": "stdout",
     "text": [
      "asdfer$345&&\nvowels: 2\nconsonants: 4\n"
     ]
    }
   ],
   "source": [
    "vowels = 'aeiou'\n",
    "\n",
    "user = input('enter string: ').lower()\n",
    "user = user.replace(' ', '')\n",
    "n_vowel = 0\n",
    "n_cons = 0 \n",
    "\n",
    "for i in user:\n",
    "    if i.isalpha() and i in vowels:\n",
    "        n_vowel += 1\n",
    "    elif i.isalpha():\n",
    "        n_cons += 1\n",
    "    else:\n",
    "        pass\n",
    "print(user)\n",
    "print('vowels: {}\\nconsonants: {}'.format(n_vowel,n_cons))"
   ]
  },
  {
   "cell_type": "code",
   "execution_count": null,
   "metadata": {},
   "outputs": [],
   "source": []
  }
 ]
}